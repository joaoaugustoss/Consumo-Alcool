{
 "cells": [
  {
   "cell_type": "markdown",
   "id": "ad5a3a9e",
   "metadata": {},
   "source": [
    "## Include"
   ]
  },
  {
   "cell_type": "code",
   "execution_count": null,
   "id": "dae29158",
   "metadata": {},
   "outputs": [],
   "source": [
    "import pandas as pd\n",
    "import matplotlib.pyplot as plt\n",
    "import numpy as np\n",
    "import os\n",
    "import folium\n",
    "import json\n",
    "from folium.plugins import HeatMap"
   ]
  },
  {
   "cell_type": "markdown",
   "id": "fd0ac9b6",
   "metadata": {},
   "source": [
    "## Task 1: Abrir arquivo e criar DF"
   ]
  },
  {
   "cell_type": "code",
   "execution_count": null,
   "id": "711641da",
   "metadata": {
    "scrolled": true
   },
   "outputs": [],
   "source": [
    "df = pd.read_csv(\"data/sample.csv\", sep=\";\")\n",
    "df.head()"
   ]
  },
  {
   "cell_type": "markdown",
   "id": "ff68930d",
   "metadata": {},
   "source": [
    "## Definir tipo de dados e descartar linhas com erro"
   ]
  },
  {
   "cell_type": "code",
   "execution_count": null,
   "id": "272f1d3f",
   "metadata": {
    "scrolled": false
   },
   "outputs": [],
   "source": [
    "#df = df.astype(str)\n",
    "#float(df[\"latitude\"])\n",
    "#df.dtypes\n",
    "#type(df[\"latitude\"])\n",
    "df[\"latitude\"] = pd.to_numeric(df[\"latitude\"], errors='coerce')\n",
    "df[\"longitude\"] = pd.to_numeric(df[\"longitude\"], errors='coerce')\n",
    "df = df[df[\"name\"].str.contains(\"0\") == False]\n",
    "df = df.dropna(axis=0, how='any')\n",
    "df = df.reset_index()\n",
    "del df['index']\n",
    "df.head()"
   ]
  },
  {
   "cell_type": "code",
   "execution_count": null,
   "id": "960cef0d",
   "metadata": {},
   "outputs": [],
   "source": [
    "df[\"country\"].value_counts()\n",
    "#(df[\"categorie\"]==\"Bar\").sum()\n",
    "#df[\"categorie\"]"
   ]
  },
  {
   "cell_type": "code",
   "execution_count": null,
   "id": "bb67c6de",
   "metadata": {},
   "outputs": [],
   "source": [
    "with open('data/categories.json') as json_file:\n",
    "    data = json.load(json_file)\n",
    "\n",
    "alcohol = []\n",
    "for i in range(13001,13389):\n",
    "    alcohol.append(data[str(i)]['labels']['en'])"
   ]
  },
  {
   "cell_type": "code",
   "execution_count": null,
   "id": "4ab37d75",
   "metadata": {},
   "outputs": [],
   "source": [
    "tet = df.loc[df['categorie'].isin(alcohol)]\n",
    "tet.shape"
   ]
  },
  {
   "cell_type": "markdown",
   "id": "cd4e1488",
   "metadata": {},
   "source": [
    "## Heatmap - Geral"
   ]
  },
  {
   "cell_type": "code",
   "execution_count": null,
   "id": "55a4aa84",
   "metadata": {
    "scrolled": true
   },
   "outputs": [],
   "source": [
    "lat = df.latitude.tolist()\n",
    "lng = df.longitude.tolist()\n",
    "m = folium.Map(\n",
    "    location=[0, 0],\n",
    "    zoom_start=2\n",
    ")\n",
    "HeatMap(list(zip(lat, lng))).add_to(m)\n",
    "m"
   ]
  },
  {
   "cell_type": "markdown",
   "id": "37efcc6c",
   "metadata": {},
   "source": [
    "## Heatmap - TOP 5 - Países\n",
    "### Japan (JP), United States (US), Malaysia (MY), Thailand (TH), Turkey (TR)"
   ]
  },
  {
   "cell_type": "code",
   "execution_count": null,
   "id": "aba70afd",
   "metadata": {
    "scrolled": true
   },
   "outputs": [],
   "source": [
    "t5_country = df.loc[df['country'].isin([\"JP\", \"US\", \"MY\", \"TH\", \"TR\"])]\n",
    "lat = t5_country.latitude.tolist()\n",
    "lng = t5_country.longitude.tolist()\n",
    "c = folium.Map(\n",
    "    location=[0, 0],\n",
    "    zoom_start=2\n",
    ")\n",
    "HeatMap(list(zip(lat, lng))).add_to(c)\n",
    "c"
   ]
  },
  {
   "cell_type": "markdown",
   "id": "db97c3cf",
   "metadata": {},
   "source": [
    "## Heatmap - TOP 5 Categorias\n",
    "### Rail Station, Ramen Restaurant, Rest Area, Convenience Store, Shopping Mall"
   ]
  },
  {
   "cell_type": "code",
   "execution_count": null,
   "id": "824b14dd",
   "metadata": {},
   "outputs": [],
   "source": [
    "t5_country = df.loc[df['categorie'].isin([\"Rail Station\", \"Ramen Restaurant \", \"Rest Area\", \"Convenience Store\", \"Shopping Mall\"])]\n",
    "lat = t5_country.latitude.tolist()\n",
    "lng = t5_country.longitude.tolist()\n",
    "c = folium.Map(\n",
    "    location=[0, 0],\n",
    "    zoom_start=2\n",
    ")\n",
    "HeatMap(list(zip(lat, lng))).add_to(c)\n",
    "c"
   ]
  },
  {
   "cell_type": "markdown",
   "id": "854df7d9",
   "metadata": {},
   "source": [
    "## Heatmap - Alcohol Categories"
   ]
  },
  {
   "cell_type": "code",
   "execution_count": null,
   "id": "fb83398d",
   "metadata": {
    "scrolled": true
   },
   "outputs": [],
   "source": [
    "alc = df.loc[df['categorie'].isin(alcohol)]\n",
    "lat = alc.latitude.tolist()\n",
    "lng = alc.longitude.tolist()\n",
    "c = folium.Map(\n",
    "    location=[0, 0],\n",
    "    zoom_start=2\n",
    ")\n",
    "HeatMap(list(zip(lat, lng))).add_to(c)\n",
    "c"
   ]
  },
  {
   "cell_type": "code",
   "execution_count": null,
   "id": "0755eb18",
   "metadata": {},
   "outputs": [],
   "source": [
    "df_marker = alc[['latitude','longitude']]\n",
    "df_pop = alc[['name']]\n",
    "loc_list = df_marker.values.tolist()\n",
    "pop_list = df_pop.values.tolist()\n",
    "\n",
    "c = folium.Map(\n",
    "    location=[0, 0],\n",
    "    zoom_start=2\n",
    ")\n",
    "\n",
    "#for i in range(0, len(loc_list)):\n",
    "#    folium.Marker(loc_list[i], popup=pop_list[i]).add_to(c)\n",
    "\n",
    "for i in zip(lat,lng):\n",
    "    folium.Marker(i).add_to(c)\n",
    "c"
   ]
  }
 ],
 "metadata": {
  "kernelspec": {
   "display_name": "Python 3 (ipykernel)",
   "language": "python",
   "name": "python3"
  },
  "language_info": {
   "codemirror_mode": {
    "name": "ipython",
    "version": 3
   },
   "file_extension": ".py",
   "mimetype": "text/x-python",
   "name": "python",
   "nbconvert_exporter": "python",
   "pygments_lexer": "ipython3",
   "version": "3.8.2"
  },
  "vscode": {
   "interpreter": {
    "hash": "aee8b7b246df8f9039afb4144a1f6fd8d2ca17a180786b69acc140d282b71a49"
   }
  }
 },
 "nbformat": 4,
 "nbformat_minor": 5
}
