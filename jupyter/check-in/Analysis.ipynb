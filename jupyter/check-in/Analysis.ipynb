{
 "cells": [
  {
   "cell_type": "code",
   "execution_count": 2,
   "id": "dae29158",
   "metadata": {},
   "outputs": [],
   "source": [
    "import pandas as pd\n",
    "import matplotlib.pyplot as plt\n",
    "import numpy as np\n",
    "import os"
   ]
  },
  {
   "cell_type": "markdown",
   "id": "fd0ac9b6",
   "metadata": {},
   "source": [
    "## Task 1: Abrir arquivo e criar DF"
   ]
  },
  {
   "cell_type": "code",
   "execution_count": 3,
   "id": "711641da",
   "metadata": {
    "scrolled": true
   },
   "outputs": [
    {
     "data": {
      "text/html": [
       "<div>\n",
       "<style scoped>\n",
       "    .dataframe tbody tr th:only-of-type {\n",
       "        vertical-align: middle;\n",
       "    }\n",
       "\n",
       "    .dataframe tbody tr th {\n",
       "        vertical-align: top;\n",
       "    }\n",
       "\n",
       "    .dataframe thead th {\n",
       "        text-align: right;\n",
       "    }\n",
       "</style>\n",
       "<table border=\"1\" class=\"dataframe\">\n",
       "  <thead>\n",
       "    <tr style=\"text-align: right;\">\n",
       "      <th></th>\n",
       "      <th>twt_id</th>\n",
       "      <th>fsq_id</th>\n",
       "      <th>swm_id</th>\n",
       "      <th>link</th>\n",
       "      <th>name</th>\n",
       "      <th>categorie</th>\n",
       "      <th>country</th>\n",
       "      <th>state</th>\n",
       "      <th>city</th>\n",
       "      <th>timestamp</th>\n",
       "    </tr>\n",
       "  </thead>\n",
       "  <tbody>\n",
       "    <tr>\n",
       "      <th>0</th>\n",
       "      <td>1527268559633661952</td>\n",
       "      <td>54c8ceaa498e323e347c60a7</td>\n",
       "      <td>190047492</td>\n",
       "      <td>https://t.co/pFZAwBGzRn</td>\n",
       "      <td>0</td>\n",
       "      <td>0</td>\n",
       "      <td>0</td>\n",
       "      <td>0</td>\n",
       "      <td>0</td>\n",
       "      <td>2022-05-19 12:43:05.349564</td>\n",
       "    </tr>\n",
       "    <tr>\n",
       "      <th>1</th>\n",
       "      <td>1527268840324972545</td>\n",
       "      <td>4cc043410cc4b713ad3cedf7</td>\n",
       "      <td>1382011868</td>\n",
       "      <td>https://t.co/GFuXUeuvrY</td>\n",
       "      <td>梅田出入口</td>\n",
       "      <td>Toll Booth</td>\n",
       "      <td>JP</td>\n",
       "      <td>Ōsaka</td>\n",
       "      <td>Osaka</td>\n",
       "      <td>2022-05-19 12:44:12.415195</td>\n",
       "    </tr>\n",
       "    <tr>\n",
       "      <th>2</th>\n",
       "      <td>1527268850215145473</td>\n",
       "      <td>57d4a224cd10ffc104e9b8c2</td>\n",
       "      <td>74247679</td>\n",
       "      <td>https://t.co/qwybUw4GdU</td>\n",
       "      <td>炉端肉焼き処猛伸 たけし</td>\n",
       "      <td>BBQ Joint</td>\n",
       "      <td>JP</td>\n",
       "      <td>Fukuoka</td>\n",
       "      <td>Fukuoka</td>\n",
       "      <td>2022-05-19 12:44:14.307749</td>\n",
       "    </tr>\n",
       "    <tr>\n",
       "      <th>3</th>\n",
       "      <td>1527268865868189696</td>\n",
       "      <td>6136525917ce7a2afe7f16bc</td>\n",
       "      <td>5019683</td>\n",
       "      <td>https://t.co/KSb8W1h7CS</td>\n",
       "      <td>The Blind Rabbit</td>\n",
       "      <td>Bar</td>\n",
       "      <td>GB</td>\n",
       "      <td>Nottinghamshire</td>\n",
       "      <td>Nottingham</td>\n",
       "      <td>2022-05-19 12:44:18.364958</td>\n",
       "    </tr>\n",
       "    <tr>\n",
       "      <th>4</th>\n",
       "      <td>1527268876345655299</td>\n",
       "      <td>0</td>\n",
       "      <td>0</td>\n",
       "      <td>https://t.co/2woZbFRR1J</td>\n",
       "      <td>0</td>\n",
       "      <td>0</td>\n",
       "      <td>0</td>\n",
       "      <td>0</td>\n",
       "      <td>0</td>\n",
       "      <td>2022-05-19 12:44:24.530626</td>\n",
       "    </tr>\n",
       "  </tbody>\n",
       "</table>\n",
       "</div>"
      ],
      "text/plain": [
       "                twt_id                    fsq_id      swm_id  \\\n",
       "0  1527268559633661952  54c8ceaa498e323e347c60a7   190047492   \n",
       "1  1527268840324972545  4cc043410cc4b713ad3cedf7  1382011868   \n",
       "2  1527268850215145473  57d4a224cd10ffc104e9b8c2    74247679   \n",
       "3  1527268865868189696  6136525917ce7a2afe7f16bc     5019683   \n",
       "4  1527268876345655299                         0           0   \n",
       "\n",
       "                      link              name   categorie country  \\\n",
       "0  https://t.co/pFZAwBGzRn                 0           0       0   \n",
       "1  https://t.co/GFuXUeuvrY             梅田出入口  Toll Booth      JP   \n",
       "2  https://t.co/qwybUw4GdU      炉端肉焼き処猛伸 たけし   BBQ Joint      JP   \n",
       "3  https://t.co/KSb8W1h7CS  The Blind Rabbit         Bar      GB   \n",
       "4  https://t.co/2woZbFRR1J                 0           0       0   \n",
       "\n",
       "             state        city                   timestamp  \n",
       "0                0           0  2022-05-19 12:43:05.349564  \n",
       "1            Ōsaka       Osaka  2022-05-19 12:44:12.415195  \n",
       "2          Fukuoka     Fukuoka  2022-05-19 12:44:14.307749  \n",
       "3  Nottinghamshire  Nottingham  2022-05-19 12:44:18.364958  \n",
       "4                0           0  2022-05-19 12:44:24.530626  "
      ]
     },
     "execution_count": 3,
     "metadata": {},
     "output_type": "execute_result"
    }
   ],
   "source": [
    "df = pd.read_csv(\"data/data.csv\", sep=\";\")\n",
    "df.head()"
   ]
  },
  {
   "cell_type": "code",
   "execution_count": 4,
   "id": "4586bbdc",
   "metadata": {},
   "outputs": [
    {
     "data": {
      "text/plain": [
       "twt_id       object\n",
       "fsq_id       object\n",
       "swm_id       object\n",
       "link         object\n",
       "name         object\n",
       "categorie    object\n",
       "country      object\n",
       "state        object\n",
       "city         object\n",
       "timestamp    object\n",
       "dtype: object"
      ]
     },
     "execution_count": 4,
     "metadata": {},
     "output_type": "execute_result"
    }
   ],
   "source": [
    "df = df.astype(str)\n",
    "df.dtypes"
   ]
  },
  {
   "cell_type": "code",
   "execution_count": 5,
   "id": "272f1d3f",
   "metadata": {
    "scrolled": false
   },
   "outputs": [
    {
     "data": {
      "text/html": [
       "<div>\n",
       "<style scoped>\n",
       "    .dataframe tbody tr th:only-of-type {\n",
       "        vertical-align: middle;\n",
       "    }\n",
       "\n",
       "    .dataframe tbody tr th {\n",
       "        vertical-align: top;\n",
       "    }\n",
       "\n",
       "    .dataframe thead th {\n",
       "        text-align: right;\n",
       "    }\n",
       "</style>\n",
       "<table border=\"1\" class=\"dataframe\">\n",
       "  <thead>\n",
       "    <tr style=\"text-align: right;\">\n",
       "      <th></th>\n",
       "      <th>twt_id</th>\n",
       "      <th>fsq_id</th>\n",
       "      <th>swm_id</th>\n",
       "      <th>link</th>\n",
       "      <th>name</th>\n",
       "      <th>categorie</th>\n",
       "      <th>country</th>\n",
       "      <th>state</th>\n",
       "      <th>city</th>\n",
       "      <th>timestamp</th>\n",
       "    </tr>\n",
       "  </thead>\n",
       "  <tbody>\n",
       "    <tr>\n",
       "      <th>0</th>\n",
       "      <td>1527268840324972545</td>\n",
       "      <td>4cc043410cc4b713ad3cedf7</td>\n",
       "      <td>1382011868</td>\n",
       "      <td>https://t.co/GFuXUeuvrY</td>\n",
       "      <td>梅田出入口</td>\n",
       "      <td>Toll Booth</td>\n",
       "      <td>JP</td>\n",
       "      <td>Ōsaka</td>\n",
       "      <td>Osaka</td>\n",
       "      <td>2022-05-19 12:44:12.415195</td>\n",
       "    </tr>\n",
       "    <tr>\n",
       "      <th>1</th>\n",
       "      <td>1527268850215145473</td>\n",
       "      <td>57d4a224cd10ffc104e9b8c2</td>\n",
       "      <td>74247679</td>\n",
       "      <td>https://t.co/qwybUw4GdU</td>\n",
       "      <td>炉端肉焼き処猛伸 たけし</td>\n",
       "      <td>BBQ Joint</td>\n",
       "      <td>JP</td>\n",
       "      <td>Fukuoka</td>\n",
       "      <td>Fukuoka</td>\n",
       "      <td>2022-05-19 12:44:14.307749</td>\n",
       "    </tr>\n",
       "    <tr>\n",
       "      <th>2</th>\n",
       "      <td>1527268865868189696</td>\n",
       "      <td>6136525917ce7a2afe7f16bc</td>\n",
       "      <td>5019683</td>\n",
       "      <td>https://t.co/KSb8W1h7CS</td>\n",
       "      <td>The Blind Rabbit</td>\n",
       "      <td>Bar</td>\n",
       "      <td>GB</td>\n",
       "      <td>Nottinghamshire</td>\n",
       "      <td>Nottingham</td>\n",
       "      <td>2022-05-19 12:44:18.364958</td>\n",
       "    </tr>\n",
       "    <tr>\n",
       "      <th>3</th>\n",
       "      <td>1527268938131857411</td>\n",
       "      <td>4bbbd0392d9ea593dff39fce</td>\n",
       "      <td>135052880</td>\n",
       "      <td>https://t.co/kqNnQtr9dA</td>\n",
       "      <td>北山田交差点</td>\n",
       "      <td>Public Transportation</td>\n",
       "      <td>JP</td>\n",
       "      <td>Kanagawa</td>\n",
       "      <td>Yokohama</td>\n",
       "      <td>2022-05-19 12:44:35.349549</td>\n",
       "    </tr>\n",
       "    <tr>\n",
       "      <th>4</th>\n",
       "      <td>1527268960260997120</td>\n",
       "      <td>4d779ee18963f04d21e9ee37</td>\n",
       "      <td>92684528</td>\n",
       "      <td>https://t.co/PAwGVt16zm</td>\n",
       "      <td>Migros Ataköy Konakları - Ataköy Plus Avm</td>\n",
       "      <td>Department Store</td>\n",
       "      <td>TR</td>\n",
       "      <td>Istanbul</td>\n",
       "      <td>Bakırköy</td>\n",
       "      <td>2022-05-19 12:44:40.513704</td>\n",
       "    </tr>\n",
       "  </tbody>\n",
       "</table>\n",
       "</div>"
      ],
      "text/plain": [
       "                twt_id                    fsq_id      swm_id  \\\n",
       "0  1527268840324972545  4cc043410cc4b713ad3cedf7  1382011868   \n",
       "1  1527268850215145473  57d4a224cd10ffc104e9b8c2    74247679   \n",
       "2  1527268865868189696  6136525917ce7a2afe7f16bc     5019683   \n",
       "3  1527268938131857411  4bbbd0392d9ea593dff39fce   135052880   \n",
       "4  1527268960260997120  4d779ee18963f04d21e9ee37    92684528   \n",
       "\n",
       "                      link                                       name  \\\n",
       "0  https://t.co/GFuXUeuvrY                                      梅田出入口   \n",
       "1  https://t.co/qwybUw4GdU                               炉端肉焼き処猛伸 たけし   \n",
       "2  https://t.co/KSb8W1h7CS                           The Blind Rabbit   \n",
       "3  https://t.co/kqNnQtr9dA                                     北山田交差点   \n",
       "4  https://t.co/PAwGVt16zm  Migros Ataköy Konakları - Ataköy Plus Avm   \n",
       "\n",
       "               categorie country            state        city  \\\n",
       "0             Toll Booth      JP            Ōsaka       Osaka   \n",
       "1              BBQ Joint      JP          Fukuoka     Fukuoka   \n",
       "2                    Bar      GB  Nottinghamshire  Nottingham   \n",
       "3  Public Transportation      JP         Kanagawa    Yokohama   \n",
       "4       Department Store      TR         Istanbul    Bakırköy   \n",
       "\n",
       "                    timestamp  \n",
       "0  2022-05-19 12:44:12.415195  \n",
       "1  2022-05-19 12:44:14.307749  \n",
       "2  2022-05-19 12:44:18.364958  \n",
       "3  2022-05-19 12:44:35.349549  \n",
       "4  2022-05-19 12:44:40.513704  "
      ]
     },
     "execution_count": 5,
     "metadata": {},
     "output_type": "execute_result"
    }
   ],
   "source": [
    "df = df[df[\"name\"].str.contains(\"0\") == False]\n",
    "df = df.reset_index()\n",
    "del df['index']\n",
    "df.head()"
   ]
  },
  {
   "cell_type": "code",
   "execution_count": 8,
   "id": "960cef0d",
   "metadata": {},
   "outputs": [
    {
     "data": {
      "text/plain": [
       "0"
      ]
     },
     "execution_count": 8,
     "metadata": {},
     "output_type": "execute_result"
    }
   ],
   "source": [
    "df[\"twt_id\"].value_counts()\n",
    "#(df[\"categorie\"]==\"Bar\").sum()"
   ]
  }
 ],
 "metadata": {
  "kernelspec": {
   "display_name": "Python 3 (ipykernel)",
   "language": "python",
   "name": "python3"
  },
  "language_info": {
   "codemirror_mode": {
    "name": "ipython",
    "version": 3
   },
   "file_extension": ".py",
   "mimetype": "text/x-python",
   "name": "python",
   "nbconvert_exporter": "python",
   "pygments_lexer": "ipython3",
   "version": "3.9.7"
  },
  "vscode": {
   "interpreter": {
    "hash": "aee8b7b246df8f9039afb4144a1f6fd8d2ca17a180786b69acc140d282b71a49"
   }
  }
 },
 "nbformat": 4,
 "nbformat_minor": 5
}
