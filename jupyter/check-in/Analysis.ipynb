{
 "cells": [
  {
   "cell_type": "markdown",
   "id": "ad5a3a9e",
   "metadata": {},
   "source": [
    "## Include"
   ]
  },
  {
   "cell_type": "code",
   "execution_count": 1,
   "id": "dae29158",
   "metadata": {},
   "outputs": [],
   "source": [
    "import pandas as pd\n",
    "import matplotlib.pyplot as plt\n",
    "import numpy as np\n",
    "import os\n",
    "import folium\n",
    "import json\n",
    "from folium.plugins import HeatMap"
   ]
  },
  {
   "cell_type": "markdown",
   "id": "fd0ac9b6",
   "metadata": {},
   "source": [
    "## Task 1: Abrir arquivo e criar DF"
   ]
  },
  {
   "cell_type": "code",
   "execution_count": 2,
   "id": "711641da",
   "metadata": {
    "scrolled": true
   },
   "outputs": [
    {
     "data": {
      "text/html": [
       "<div>\n",
       "<style scoped>\n",
       "    .dataframe tbody tr th:only-of-type {\n",
       "        vertical-align: middle;\n",
       "    }\n",
       "\n",
       "    .dataframe tbody tr th {\n",
       "        vertical-align: top;\n",
       "    }\n",
       "\n",
       "    .dataframe thead th {\n",
       "        text-align: right;\n",
       "    }\n",
       "</style>\n",
       "<table border=\"1\" class=\"dataframe\">\n",
       "  <thead>\n",
       "    <tr style=\"text-align: right;\">\n",
       "      <th></th>\n",
       "      <th>fsq_id</th>\n",
       "      <th>swm_id</th>\n",
       "      <th>name</th>\n",
       "      <th>categorie</th>\n",
       "      <th>country</th>\n",
       "      <th>city</th>\n",
       "      <th>timestamp</th>\n",
       "      <th>latitude</th>\n",
       "      <th>longitude</th>\n",
       "    </tr>\n",
       "  </thead>\n",
       "  <tbody>\n",
       "    <tr>\n",
       "      <th>0</th>\n",
       "      <td>4cc043410cc4b713ad3cedf7</td>\n",
       "      <td>1.382012e+09</td>\n",
       "      <td>梅田出入口</td>\n",
       "      <td>Toll Booth</td>\n",
       "      <td>JP</td>\n",
       "      <td>Osaka</td>\n",
       "      <td>2022-05-19 21:44:12.415195+09:00</td>\n",
       "      <td>34.700761</td>\n",
       "      <td>135.491450</td>\n",
       "    </tr>\n",
       "    <tr>\n",
       "      <th>1</th>\n",
       "      <td>57d4a224cd10ffc104e9b8c2</td>\n",
       "      <td>7.424768e+07</td>\n",
       "      <td>炉端肉焼き処猛伸 たけし</td>\n",
       "      <td>BBQ Joint</td>\n",
       "      <td>JP</td>\n",
       "      <td>Fukuoka</td>\n",
       "      <td>2022-05-19 21:44:14.307749+09:00</td>\n",
       "      <td>33.595423</td>\n",
       "      <td>130.411645</td>\n",
       "    </tr>\n",
       "    <tr>\n",
       "      <th>2</th>\n",
       "      <td>6136525917ce7a2afe7f16bc</td>\n",
       "      <td>5.019683e+06</td>\n",
       "      <td>The Blind Rabbit</td>\n",
       "      <td>Bar</td>\n",
       "      <td>GB</td>\n",
       "      <td>Nottingham</td>\n",
       "      <td>2022-05-19 13:44:18.364958+01:00</td>\n",
       "      <td>52.951511</td>\n",
       "      <td>-1.145812</td>\n",
       "    </tr>\n",
       "    <tr>\n",
       "      <th>3</th>\n",
       "      <td>4bbbd0392d9ea593dff39fce</td>\n",
       "      <td>1.350529e+08</td>\n",
       "      <td>北山田交差点</td>\n",
       "      <td>Public Transportation</td>\n",
       "      <td>JP</td>\n",
       "      <td>Yokohama</td>\n",
       "      <td>2022-05-19 21:44:35.349549+09:00</td>\n",
       "      <td>35.562375</td>\n",
       "      <td>139.588050</td>\n",
       "    </tr>\n",
       "    <tr>\n",
       "      <th>4</th>\n",
       "      <td>4d779ee18963f04d21e9ee37</td>\n",
       "      <td>9.268453e+07</td>\n",
       "      <td>Migros Ataköy Konakları - Ataköy Plus Avm</td>\n",
       "      <td>Department Store</td>\n",
       "      <td>TR</td>\n",
       "      <td>Bakırköy</td>\n",
       "      <td>2022-05-19 15:44:40.513704+03:00</td>\n",
       "      <td>40.978529</td>\n",
       "      <td>28.850354</td>\n",
       "    </tr>\n",
       "  </tbody>\n",
       "</table>\n",
       "</div>"
      ],
      "text/plain": [
       "                     fsq_id        swm_id  \\\n",
       "0  4cc043410cc4b713ad3cedf7  1.382012e+09   \n",
       "1  57d4a224cd10ffc104e9b8c2  7.424768e+07   \n",
       "2  6136525917ce7a2afe7f16bc  5.019683e+06   \n",
       "3  4bbbd0392d9ea593dff39fce  1.350529e+08   \n",
       "4  4d779ee18963f04d21e9ee37  9.268453e+07   \n",
       "\n",
       "                                        name              categorie country  \\\n",
       "0                                      梅田出入口             Toll Booth      JP   \n",
       "1                               炉端肉焼き処猛伸 たけし              BBQ Joint      JP   \n",
       "2                           The Blind Rabbit                    Bar      GB   \n",
       "3                                     北山田交差点  Public Transportation      JP   \n",
       "4  Migros Ataköy Konakları - Ataköy Plus Avm       Department Store      TR   \n",
       "\n",
       "         city                         timestamp   latitude   longitude  \n",
       "0       Osaka  2022-05-19 21:44:12.415195+09:00  34.700761  135.491450  \n",
       "1     Fukuoka  2022-05-19 21:44:14.307749+09:00  33.595423  130.411645  \n",
       "2  Nottingham  2022-05-19 13:44:18.364958+01:00  52.951511   -1.145812  \n",
       "3    Yokohama  2022-05-19 21:44:35.349549+09:00  35.562375  139.588050  \n",
       "4    Bakırköy  2022-05-19 15:44:40.513704+03:00  40.978529   28.850354  "
      ]
     },
     "execution_count": 2,
     "metadata": {},
     "output_type": "execute_result"
    }
   ],
   "source": [
    "df = pd.read_csv(\"data/updated.csv\", sep=\";\")\n",
    "df.head()"
   ]
  },
  {
   "cell_type": "markdown",
   "id": "ff68930d",
   "metadata": {},
   "source": [
    "## Definir tipo de dados e descartar linhas com erro"
   ]
  },
  {
   "cell_type": "code",
   "execution_count": 3,
   "id": "272f1d3f",
   "metadata": {
    "scrolled": false
   },
   "outputs": [
    {
     "data": {
      "text/html": [
       "<div>\n",
       "<style scoped>\n",
       "    .dataframe tbody tr th:only-of-type {\n",
       "        vertical-align: middle;\n",
       "    }\n",
       "\n",
       "    .dataframe tbody tr th {\n",
       "        vertical-align: top;\n",
       "    }\n",
       "\n",
       "    .dataframe thead th {\n",
       "        text-align: right;\n",
       "    }\n",
       "</style>\n",
       "<table border=\"1\" class=\"dataframe\">\n",
       "  <thead>\n",
       "    <tr style=\"text-align: right;\">\n",
       "      <th></th>\n",
       "      <th>fsq_id</th>\n",
       "      <th>swm_id</th>\n",
       "      <th>name</th>\n",
       "      <th>categorie</th>\n",
       "      <th>country</th>\n",
       "      <th>city</th>\n",
       "      <th>timestamp</th>\n",
       "      <th>latitude</th>\n",
       "      <th>longitude</th>\n",
       "    </tr>\n",
       "  </thead>\n",
       "  <tbody>\n",
       "    <tr>\n",
       "      <th>0</th>\n",
       "      <td>4cc043410cc4b713ad3cedf7</td>\n",
       "      <td>1.382012e+09</td>\n",
       "      <td>梅田出入口</td>\n",
       "      <td>Toll Booth</td>\n",
       "      <td>JP</td>\n",
       "      <td>Osaka</td>\n",
       "      <td>2022-05-19 21:44:12.415195+09:00</td>\n",
       "      <td>34.700761</td>\n",
       "      <td>135.491450</td>\n",
       "    </tr>\n",
       "    <tr>\n",
       "      <th>1</th>\n",
       "      <td>57d4a224cd10ffc104e9b8c2</td>\n",
       "      <td>7.424768e+07</td>\n",
       "      <td>炉端肉焼き処猛伸 たけし</td>\n",
       "      <td>BBQ Joint</td>\n",
       "      <td>JP</td>\n",
       "      <td>Fukuoka</td>\n",
       "      <td>2022-05-19 21:44:14.307749+09:00</td>\n",
       "      <td>33.595423</td>\n",
       "      <td>130.411645</td>\n",
       "    </tr>\n",
       "    <tr>\n",
       "      <th>2</th>\n",
       "      <td>6136525917ce7a2afe7f16bc</td>\n",
       "      <td>5.019683e+06</td>\n",
       "      <td>The Blind Rabbit</td>\n",
       "      <td>Bar</td>\n",
       "      <td>GB</td>\n",
       "      <td>Nottingham</td>\n",
       "      <td>2022-05-19 13:44:18.364958+01:00</td>\n",
       "      <td>52.951511</td>\n",
       "      <td>-1.145812</td>\n",
       "    </tr>\n",
       "    <tr>\n",
       "      <th>3</th>\n",
       "      <td>4bbbd0392d9ea593dff39fce</td>\n",
       "      <td>1.350529e+08</td>\n",
       "      <td>北山田交差点</td>\n",
       "      <td>Public Transportation</td>\n",
       "      <td>JP</td>\n",
       "      <td>Yokohama</td>\n",
       "      <td>2022-05-19 21:44:35.349549+09:00</td>\n",
       "      <td>35.562375</td>\n",
       "      <td>139.588050</td>\n",
       "    </tr>\n",
       "    <tr>\n",
       "      <th>4</th>\n",
       "      <td>4d779ee18963f04d21e9ee37</td>\n",
       "      <td>9.268453e+07</td>\n",
       "      <td>Migros Ataköy Konakları - Ataköy Plus Avm</td>\n",
       "      <td>Department Store</td>\n",
       "      <td>TR</td>\n",
       "      <td>Bakırköy</td>\n",
       "      <td>2022-05-19 15:44:40.513704+03:00</td>\n",
       "      <td>40.978529</td>\n",
       "      <td>28.850354</td>\n",
       "    </tr>\n",
       "  </tbody>\n",
       "</table>\n",
       "</div>"
      ],
      "text/plain": [
       "                     fsq_id        swm_id  \\\n",
       "0  4cc043410cc4b713ad3cedf7  1.382012e+09   \n",
       "1  57d4a224cd10ffc104e9b8c2  7.424768e+07   \n",
       "2  6136525917ce7a2afe7f16bc  5.019683e+06   \n",
       "3  4bbbd0392d9ea593dff39fce  1.350529e+08   \n",
       "4  4d779ee18963f04d21e9ee37  9.268453e+07   \n",
       "\n",
       "                                        name              categorie country  \\\n",
       "0                                      梅田出入口             Toll Booth      JP   \n",
       "1                               炉端肉焼き処猛伸 たけし              BBQ Joint      JP   \n",
       "2                           The Blind Rabbit                    Bar      GB   \n",
       "3                                     北山田交差点  Public Transportation      JP   \n",
       "4  Migros Ataköy Konakları - Ataköy Plus Avm       Department Store      TR   \n",
       "\n",
       "         city                         timestamp   latitude   longitude  \n",
       "0       Osaka  2022-05-19 21:44:12.415195+09:00  34.700761  135.491450  \n",
       "1     Fukuoka  2022-05-19 21:44:14.307749+09:00  33.595423  130.411645  \n",
       "2  Nottingham  2022-05-19 13:44:18.364958+01:00  52.951511   -1.145812  \n",
       "3    Yokohama  2022-05-19 21:44:35.349549+09:00  35.562375  139.588050  \n",
       "4    Bakırköy  2022-05-19 15:44:40.513704+03:00  40.978529   28.850354  "
      ]
     },
     "execution_count": 3,
     "metadata": {},
     "output_type": "execute_result"
    }
   ],
   "source": [
    "#df = df.astype(str)\n",
    "#float(df[\"latitude\"])\n",
    "#df.dtypes\n",
    "#type(df[\"latitude\"])\n",
    "df[\"latitude\"] = pd.to_numeric(df[\"latitude\"], errors='coerce') # typecast string para numerico\n",
    "df[\"longitude\"] = pd.to_numeric(df[\"longitude\"], errors='coerce') # typecast string para numerico\n",
    "df = df[df[\"name\"].str.contains(\"0\") == False] # selecionando todas as linhas que não possuem \"0\" em name\n",
    "df = df.dropna(axis=0, how='any') # drop do index antigo\n",
    "df = df.reset_index() # resetando o index\n",
    "del df['index'] # deletando coluna index\n",
    "df.head()"
   ]
  },
  {
   "cell_type": "code",
   "execution_count": 4,
   "id": "960cef0d",
   "metadata": {},
   "outputs": [
    {
     "data": {
      "text/plain": [
       "JP    159773\n",
       "US     10144\n",
       "MY      2507\n",
       "TR      2278\n",
       "MX      2030\n",
       "       ...  \n",
       "JE         1\n",
       "XK         1\n",
       "IQ         1\n",
       "BW         1\n",
       "LT         1\n",
       "Name: country, Length: 120, dtype: int64"
      ]
     },
     "execution_count": 4,
     "metadata": {},
     "output_type": "execute_result"
    }
   ],
   "source": [
    "df[\"country\"].value_counts()\n",
    "#(df[\"categorie\"]==\"Bar\").sum()\n",
    "#df[\"categorie\"]"
   ]
  },
  {
   "cell_type": "markdown",
   "id": "f322dd46",
   "metadata": {},
   "source": [
    "### Listando todas as categorias dentro de \"Dining and Drinking\""
   ]
  },
  {
   "cell_type": "code",
   "execution_count": 5,
   "id": "bb67c6de",
   "metadata": {},
   "outputs": [],
   "source": [
    "with open('data/categories.json') as json_file:\n",
    "    data = json.load(json_file)\n",
    "\n",
    "alcohol = []\n",
    "for i in range(13001,13389):\n",
    "    alcohol.append(data[str(i)]['labels']['en'])"
   ]
  },
  {
   "cell_type": "code",
   "execution_count": 6,
   "id": "4ab37d75",
   "metadata": {},
   "outputs": [
    {
     "data": {
      "text/plain": [
       "(39546, 9)"
      ]
     },
     "execution_count": 6,
     "metadata": {},
     "output_type": "execute_result"
    }
   ],
   "source": [
    "tet = df.loc[df['categorie'].isin(alcohol)]\n",
    "tet.shape"
   ]
  },
  {
   "cell_type": "markdown",
   "id": "cd4e1488",
   "metadata": {},
   "source": [
    "## Heatmap - Geral"
   ]
  },
  {
   "cell_type": "code",
   "execution_count": null,
   "id": "55a4aa84",
   "metadata": {
    "scrolled": true
   },
   "outputs": [],
   "source": [
    "lat = df.latitude.tolist()\n",
    "lng = df.longitude.tolist()\n",
    "m = folium.Map(\n",
    "    location=[0, 0],\n",
    "    zoom_start=2\n",
    ")\n",
    "HeatMap(list(zip(lat, lng))).add_to(m)\n",
    "m"
   ]
  },
  {
   "cell_type": "markdown",
   "id": "37efcc6c",
   "metadata": {},
   "source": [
    "## Heatmap - TOP 5 - Países\n",
    "### Japan (JP), United States (US), Malaysia (MY), Thailand (TH), Turkey (TR)"
   ]
  },
  {
   "cell_type": "code",
   "execution_count": null,
   "id": "aba70afd",
   "metadata": {
    "scrolled": true
   },
   "outputs": [],
   "source": [
    "t5_country = df.loc[df['country'].isin([\"JP\", \"US\", \"MY\", \"TR\", \"MX\"])]\n",
    "lat = t5_country.latitude.tolist()\n",
    "lng = t5_country.longitude.tolist()\n",
    "c = folium.Map(\n",
    "    location=[0, 0],\n",
    "    zoom_start=2\n",
    ")\n",
    "HeatMap(list(zip(lat, lng))).add_to(c)\n",
    "c"
   ]
  },
  {
   "cell_type": "markdown",
   "id": "db97c3cf",
   "metadata": {},
   "source": [
    "## Heatmap - TOP 5 Categorias\n",
    "### Rail Station, Ramen Restaurant, Rest Area, Convenience Store, Shopping Mall"
   ]
  },
  {
   "cell_type": "code",
   "execution_count": null,
   "id": "824b14dd",
   "metadata": {},
   "outputs": [],
   "source": [
    "t5_country = df.loc[df['categorie'].isin([\"Rail Station\", \"Ramen Restaurant \", \"Rest Area\", \"Convenience Store\", \"Shopping Mall\"])]\n",
    "lat = t5_country.latitude.tolist()\n",
    "lng = t5_country.longitude.tolist()\n",
    "c = folium.Map(\n",
    "    location=[0, 0],\n",
    "    zoom_start=2\n",
    ")\n",
    "HeatMap(list(zip(lat, lng))).add_to(c)\n",
    "c"
   ]
  },
  {
   "cell_type": "markdown",
   "id": "854df7d9",
   "metadata": {},
   "source": [
    "## Heatmap - Alcohol Categories"
   ]
  },
  {
   "cell_type": "code",
   "execution_count": null,
   "id": "fb83398d",
   "metadata": {
    "scrolled": true
   },
   "outputs": [],
   "source": [
    "alc = df.loc[df['categorie'].isin(alcohol)]\n",
    "lat = alc.latitude.tolist()\n",
    "lng = alc.longitude.tolist()\n",
    "c = folium.Map(\n",
    "    location=[0, 0],\n",
    "    zoom_start=2\n",
    ")\n",
    "HeatMap(list(zip(lat, lng))).add_to(c)\n",
    "c"
   ]
  },
  {
   "cell_type": "code",
   "execution_count": null,
   "id": "0755eb18",
   "metadata": {},
   "outputs": [],
   "source": [
    "#df_marker = alc[['latitude','longitude']]\n",
    "#df_pop = alc[['name']]\n",
    "#loc_list = df_marker.values.tolist()\n",
    "#pop_list = df_pop.values.tolist()\n",
    "\n",
    "#c = folium.Map(\n",
    "#    location=[0, 0],\n",
    "#    zoom_start=2\n",
    "#)\n",
    "\n",
    "#for i in range(0, len(loc_list)):\n",
    "#    folium.Marker(loc_list[i], popup=pop_list[i]).add_to(c)\n",
    "\n",
    "#for i in zip(lat,lng):\n",
    "#    folium.Marker(i).add_to(c)\n",
    "#c"
   ]
  }
 ],
 "metadata": {
  "kernelspec": {
   "display_name": "Python 3 (ipykernel)",
   "language": "python",
   "name": "python3"
  },
  "language_info": {
   "codemirror_mode": {
    "name": "ipython",
    "version": 3
   },
   "file_extension": ".py",
   "mimetype": "text/x-python",
   "name": "python",
   "nbconvert_exporter": "python",
   "pygments_lexer": "ipython3",
   "version": "3.8.2"
  },
  "vscode": {
   "interpreter": {
    "hash": "aee8b7b246df8f9039afb4144a1f6fd8d2ca17a180786b69acc140d282b71a49"
   }
  }
 },
 "nbformat": 4,
 "nbformat_minor": 5
}
